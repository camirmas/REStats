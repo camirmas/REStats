{
 "cells": [
  {
   "cell_type": "markdown",
   "id": "2f4a5528",
   "metadata": {},
   "source": [
    "# Simulation\n",
    "\n",
    "Wind speed -> Power -> H2"
   ]
  },
  {
   "cell_type": "code",
   "execution_count": 1,
   "id": "a94476e4",
   "metadata": {},
   "outputs": [],
   "source": [
    "import torch\n",
    "import numpy as np\n",
    "import pandas as pd\n",
    "from REStats.utils import load_SCADA, filter_outliers, downsample, standardize\n",
    "from REStats.models import backtest, power_curve\n",
    "from sklearn.preprocessing import KBinsDiscretizer\n",
    "from sklearn.model_selection import train_test_split\n",
    "from sklearn.metrics import mean_squared_error, mean_absolute_error"
   ]
  },
  {
   "cell_type": "code",
   "execution_count": 2,
   "id": "b524e61d",
   "metadata": {},
   "outputs": [],
   "source": [
    "wt_18 = load_SCADA(2018)\n",
    "wt_19 = load_SCADA(2019)"
   ]
  },
  {
   "cell_type": "markdown",
   "id": "f0ba5ae9",
   "metadata": {},
   "source": [
    "## Train + Generate Forecast"
   ]
  },
  {
   "cell_type": "code",
   "execution_count": 3,
   "id": "d82337d9",
   "metadata": {},
   "outputs": [],
   "source": [
    "fcast_train = wt_19[(wt_19.index >= \"2019-02-01\") & (wt_19.index < \"2019-03-01\")].copy()\n",
    "test = wt_19[(wt_19.index >= \"2019-03-01\") & (wt_19.index < \"2019-04-01\")].copy()\n",
    "test = downsample(test)"
   ]
  },
  {
   "cell_type": "code",
   "execution_count": 4,
   "id": "9d2c8a50",
   "metadata": {},
   "outputs": [
    {
     "name": "stderr",
     "output_type": "stream",
     "text": [
      "/home/cam/mambaforge/envs/REStats/lib/python3.11/site-packages/pyro/infer/mcmc/api.py:497: UserWarning: num_chains=2 is more than available_cpu=1. Chains will be drawn sequentially.\n",
      "  warnings.warn(\n",
      "Sample [0]: 100%|█| 1500/1500 [00:12, 116.60it/s, step size=7.37e-01, acc. prob=\n",
      "Sample [1]: 100%|█| 1500/1500 [00:13, 109.30it/s, step size=8.59e-01, acc. prob=\n"
     ]
    },
    {
     "name": "stdout",
     "output_type": "stream",
     "text": [
      "Forecast RMSE: 1.114974537660918\n",
      "Forecast MAE: 0.8302878104288293\n"
     ]
    },
    {
     "data": {
      "text/plain": [
       "(1.114974537660918, 0.8302878104288293)"
      ]
     },
     "execution_count": 4,
     "metadata": {},
     "output_type": "execute_result"
    }
   ],
   "source": [
    "forecasts_full, (fcast_rmse, fcast_mae) = backtest(downsample(fcast_train), test)\n",
    "\n",
    "fcast_rmse, fcast_mae"
   ]
  },
  {
   "cell_type": "markdown",
   "id": "2db7d618",
   "metadata": {},
   "source": [
    "## Train + Predict Power Curve"
   ]
  },
  {
   "cell_type": "code",
   "execution_count": 5,
   "id": "ed29d0f2",
   "metadata": {},
   "outputs": [
    {
     "data": {
      "text/html": [
       "<div>\n",
       "<style scoped>\n",
       "    .dataframe tbody tr th:only-of-type {\n",
       "        vertical-align: middle;\n",
       "    }\n",
       "\n",
       "    .dataframe tbody tr th {\n",
       "        vertical-align: top;\n",
       "    }\n",
       "\n",
       "    .dataframe thead th {\n",
       "        text-align: right;\n",
       "    }\n",
       "</style>\n",
       "<table border=\"1\" class=\"dataframe\">\n",
       "  <thead>\n",
       "    <tr style=\"text-align: right;\">\n",
       "      <th></th>\n",
       "      <th>wind_speed</th>\n",
       "      <th>wind_dir</th>\n",
       "      <th>power</th>\n",
       "      <th>turbulence_intensity</th>\n",
       "    </tr>\n",
       "    <tr>\n",
       "      <th>Date</th>\n",
       "      <th></th>\n",
       "      <th></th>\n",
       "      <th></th>\n",
       "      <th></th>\n",
       "    </tr>\n",
       "  </thead>\n",
       "  <tbody>\n",
       "    <tr>\n",
       "      <th>2019-02-28 19:00:00</th>\n",
       "      <td>4.730932</td>\n",
       "      <td>286.072572</td>\n",
       "      <td>221.701962</td>\n",
       "      <td>0.035886</td>\n",
       "    </tr>\n",
       "    <tr>\n",
       "      <th>2019-02-28 20:00:00</th>\n",
       "      <td>5.325628</td>\n",
       "      <td>300.330975</td>\n",
       "      <td>313.219354</td>\n",
       "      <td>0.030987</td>\n",
       "    </tr>\n",
       "    <tr>\n",
       "      <th>2019-02-28 21:00:00</th>\n",
       "      <td>4.284668</td>\n",
       "      <td>308.103162</td>\n",
       "      <td>171.316518</td>\n",
       "      <td>0.037701</td>\n",
       "    </tr>\n",
       "    <tr>\n",
       "      <th>2019-02-28 22:00:00</th>\n",
       "      <td>2.904026</td>\n",
       "      <td>316.986263</td>\n",
       "      <td>36.895107</td>\n",
       "      <td>0.060341</td>\n",
       "    </tr>\n",
       "    <tr>\n",
       "      <th>2019-02-28 23:00:00</th>\n",
       "      <td>3.489935</td>\n",
       "      <td>316.893271</td>\n",
       "      <td>71.923876</td>\n",
       "      <td>0.042589</td>\n",
       "    </tr>\n",
       "  </tbody>\n",
       "</table>\n",
       "</div>"
      ],
      "text/plain": [
       "                     wind_speed    wind_dir       power  turbulence_intensity\n",
       "Date                                                                         \n",
       "2019-02-28 19:00:00    4.730932  286.072572  221.701962              0.035886\n",
       "2019-02-28 20:00:00    5.325628  300.330975  313.219354              0.030987\n",
       "2019-02-28 21:00:00    4.284668  308.103162  171.316518              0.037701\n",
       "2019-02-28 22:00:00    2.904026  316.986263   36.895107              0.060341\n",
       "2019-02-28 23:00:00    3.489935  316.893271   71.923876              0.042589"
      ]
     },
     "execution_count": 5,
     "metadata": {},
     "output_type": "execute_result"
    }
   ],
   "source": [
    "pc_train_raw = pd.concat([wt_18, fcast_train])\n",
    "cut_in = 2.0\n",
    "cut_out = 18.0\n",
    "pc_filtered = filter_outliers(pc_train_raw)\n",
    "pc_train = downsample(pc_filtered)\n",
    "pc_train = pc_train[(pc_train.wind_speed >= cut_in) & (pc_train.wind_speed < cut_out)]\n",
    "\n",
    "pc_train.tail()"
   ]
  },
  {
   "cell_type": "code",
   "execution_count": 6,
   "id": "f4fa2f0f",
   "metadata": {},
   "outputs": [],
   "source": [
    "kbd = KBinsDiscretizer(n_bins=20, encode=\"ordinal\")\n",
    "bins = kbd.fit_transform(pc_train.wind_speed.to_numpy()[:, None])\n",
    "\n",
    "pc_train, _ = train_test_split(pc_train, stratify=bins, train_size=800, random_state=1)"
   ]
  },
  {
   "cell_type": "code",
   "execution_count": 7,
   "id": "ea3d0f95",
   "metadata": {
    "scrolled": true
   },
   "outputs": [
    {
     "name": "stdout",
     "output_type": "stream",
     "text": [
      "Iter 1/100 - Loss: 0.769   lengthscale: [[0.6931471824645996]]   noise: 0.693\n",
      "Iter 2/100 - Loss: 0.732   lengthscale: [[0.7443966269493103]]   noise: 0.644\n",
      "Iter 3/100 - Loss: 0.693   lengthscale: [[0.7979174852371216]]   noise: 0.598\n",
      "Iter 4/100 - Loss: 0.655   lengthscale: [[0.8535422086715698]]   noise: 0.554\n",
      "Iter 5/100 - Loss: 0.615   lengthscale: [[0.9110930562019348]]   noise: 0.513\n",
      "Iter 6/100 - Loss: 0.576   lengthscale: [[0.9703762531280518]]   noise: 0.474\n",
      "Iter 7/100 - Loss: 0.535   lengthscale: [[1.0311700105667114]]   noise: 0.437\n",
      "Iter 8/100 - Loss: 0.494   lengthscale: [[1.0932085514068604]]   noise: 0.403\n",
      "Iter 9/100 - Loss: 0.453   lengthscale: [[1.1561676263809204]]   noise: 0.370\n",
      "Iter 10/100 - Loss: 0.411   lengthscale: [[1.219658613204956]]   noise: 0.340\n",
      "Iter 11/100 - Loss: 0.368   lengthscale: [[1.283230185508728]]   noise: 0.312\n",
      "Iter 12/100 - Loss: 0.325   lengthscale: [[1.3463709354400635]]   noise: 0.286\n",
      "Iter 13/100 - Loss: 0.282   lengthscale: [[1.4085071086883545]]   noise: 0.261\n",
      "Iter 14/100 - Loss: 0.238   lengthscale: [[1.4689953327178955]]   noise: 0.239\n",
      "Iter 15/100 - Loss: 0.194   lengthscale: [[1.5271146297454834]]   noise: 0.218\n",
      "Iter 16/100 - Loss: 0.149   lengthscale: [[1.5820608139038086]]   noise: 0.199\n",
      "Iter 17/100 - Loss: 0.105   lengthscale: [[1.632951021194458]]   noise: 0.181\n",
      "Iter 18/100 - Loss: 0.060   lengthscale: [[1.678842544555664]]   noise: 0.165\n",
      "Iter 19/100 - Loss: 0.014   lengthscale: [[1.7187705039978027]]   noise: 0.150\n",
      "Iter 20/100 - Loss: -0.031   lengthscale: [[1.7518048286437988]]   noise: 0.136\n",
      "Iter 21/100 - Loss: -0.077   lengthscale: [[1.7771276235580444]]   noise: 0.123\n",
      "Iter 22/100 - Loss: -0.122   lengthscale: [[1.7941218614578247]]   noise: 0.112\n",
      "Iter 23/100 - Loss: -0.168   lengthscale: [[1.8024585247039795]]   noise: 0.102\n",
      "Iter 24/100 - Loss: -0.214   lengthscale: [[1.8021674156188965]]   noise: 0.092\n",
      "Iter 25/100 - Loss: -0.259   lengthscale: [[1.7936716079711914]]   noise: 0.083\n",
      "Iter 26/100 - Loss: -0.305   lengthscale: [[1.777777910232544]]   noise: 0.075\n",
      "Iter 27/100 - Loss: -0.350   lengthscale: [[1.7556214332580566]]   noise: 0.068\n",
      "Iter 28/100 - Loss: -0.395   lengthscale: [[1.7285783290863037]]   noise: 0.062\n",
      "Iter 29/100 - Loss: -0.439   lengthscale: [[1.6981562376022339]]   noise: 0.056\n",
      "Iter 30/100 - Loss: -0.483   lengthscale: [[1.6658827066421509]]   noise: 0.051\n",
      "Iter 31/100 - Loss: -0.527   lengthscale: [[1.6332037448883057]]   noise: 0.046\n",
      "Iter 32/100 - Loss: -0.569   lengthscale: [[1.6014105081558228]]   noise: 0.041\n",
      "Iter 33/100 - Loss: -0.611   lengthscale: [[1.5716047286987305]]   noise: 0.037\n",
      "Iter 34/100 - Loss: -0.652   lengthscale: [[1.5446988344192505]]   noise: 0.034\n",
      "Iter 35/100 - Loss: -0.691   lengthscale: [[1.5214264392852783]]   noise: 0.031\n",
      "Iter 36/100 - Loss: -0.730   lengthscale: [[1.5023423433303833]]   noise: 0.028\n",
      "Iter 37/100 - Loss: -0.767   lengthscale: [[1.4878029823303223]]   noise: 0.025\n",
      "Iter 38/100 - Loss: -0.803   lengthscale: [[1.4779390096664429]]   noise: 0.023\n",
      "Iter 39/100 - Loss: -0.837   lengthscale: [[1.4726378917694092]]   noise: 0.021\n",
      "Iter 40/100 - Loss: -0.870   lengthscale: [[1.4715416431427002]]   noise: 0.019\n",
      "Iter 41/100 - Loss: -0.900   lengthscale: [[1.4740607738494873]]   noise: 0.017\n",
      "Iter 42/100 - Loss: -0.929   lengthscale: [[1.4793946743011475]]   noise: 0.016\n",
      "Iter 43/100 - Loss: -0.956   lengthscale: [[1.4865599870681763]]   noise: 0.014\n",
      "Iter 44/100 - Loss: -0.980   lengthscale: [[1.4944270849227905]]   noise: 0.013\n",
      "Iter 45/100 - Loss: -1.002   lengthscale: [[1.5017800331115723]]   noise: 0.012\n",
      "Iter 46/100 - Loss: -1.021   lengthscale: [[1.5074052810668945]]   noise: 0.011\n",
      "Iter 47/100 - Loss: -1.038   lengthscale: [[1.5102152824401855]]   noise: 0.010\n",
      "Iter 48/100 - Loss: -1.053   lengthscale: [[1.5093884468078613]]   noise: 0.009\n",
      "Iter 49/100 - Loss: -1.065   lengthscale: [[1.5044941902160645]]   noise: 0.009\n",
      "Iter 50/100 - Loss: -1.074   lengthscale: [[1.4955605268478394]]   noise: 0.008\n",
      "Iter 51/100 - Loss: -1.081   lengthscale: [[1.4830564260482788]]   noise: 0.008\n",
      "Iter 52/100 - Loss: -1.086   lengthscale: [[1.467789649963379]]   noise: 0.007\n",
      "Iter 53/100 - Loss: -1.089   lengthscale: [[1.450748324394226]]   noise: 0.007\n",
      "Iter 54/100 - Loss: -1.091   lengthscale: [[1.4329309463500977]]   noise: 0.006\n",
      "Iter 55/100 - Loss: -1.090   lengthscale: [[1.4152121543884277]]   noise: 0.006\n",
      "Iter 56/100 - Loss: -1.089   lengthscale: [[1.3982683420181274]]   noise: 0.006\n",
      "Iter 57/100 - Loss: -1.087   lengthscale: [[1.3825631141662598]]   noise: 0.005\n",
      "Iter 58/100 - Loss: -1.085   lengthscale: [[1.3683702945709229]]   noise: 0.005\n",
      "Iter 59/100 - Loss: -1.082   lengthscale: [[1.3558145761489868]]   noise: 0.005\n",
      "Iter 60/100 - Loss: -1.079   lengthscale: [[1.3449119329452515]]   noise: 0.005\n",
      "Iter 61/100 - Loss: -1.077   lengthscale: [[1.3356060981750488]]   noise: 0.005\n",
      "Iter 62/100 - Loss: -1.075   lengthscale: [[1.3277984857559204]]   noise: 0.005\n",
      "Iter 63/100 - Loss: -1.074   lengthscale: [[1.3213715553283691]]   noise: 0.005\n",
      "Iter 64/100 - Loss: -1.074   lengthscale: [[1.316205382347107]]   noise: 0.005\n",
      "Iter 65/100 - Loss: -1.074   lengthscale: [[1.3121901750564575]]   noise: 0.005\n",
      "Iter 66/100 - Loss: -1.075   lengthscale: [[1.3092312812805176]]   noise: 0.005\n",
      "Iter 67/100 - Loss: -1.076   lengthscale: [[1.3072525262832642]]   noise: 0.005\n",
      "Iter 68/100 - Loss: -1.077   lengthscale: [[1.3061939477920532]]   noise: 0.005\n",
      "Iter 69/100 - Loss: -1.079   lengthscale: [[1.3060088157653809]]   noise: 0.005\n",
      "Iter 70/100 - Loss: -1.081   lengthscale: [[1.3066580295562744]]   noise: 0.005\n",
      "Iter 71/100 - Loss: -1.082   lengthscale: [[1.3081047534942627]]   noise: 0.005\n",
      "Iter 72/100 - Loss: -1.084   lengthscale: [[1.3103086948394775]]   noise: 0.005\n",
      "Iter 73/100 - Loss: -1.086   lengthscale: [[1.3132213354110718]]   noise: 0.005\n",
      "Iter 74/100 - Loss: -1.087   lengthscale: [[1.3167818784713745]]   noise: 0.005\n",
      "Iter 75/100 - Loss: -1.088   lengthscale: [[1.3209140300750732]]   noise: 0.006\n",
      "Iter 76/100 - Loss: -1.089   lengthscale: [[1.3255250453948975]]   noise: 0.006\n",
      "Iter 77/100 - Loss: -1.090   lengthscale: [[1.33050537109375]]   noise: 0.006\n",
      "Iter 78/100 - Loss: -1.090   lengthscale: [[1.3357312679290771]]   noise: 0.006\n",
      "Iter 79/100 - Loss: -1.091   lengthscale: [[1.3410682678222656]]   noise: 0.006\n",
      "Iter 80/100 - Loss: -1.091   lengthscale: [[1.3463776111602783]]   noise: 0.006\n",
      "Iter 81/100 - Loss: -1.091   lengthscale: [[1.3515238761901855]]   noise: 0.006\n",
      "Iter 82/100 - Loss: -1.091   lengthscale: [[1.3563833236694336]]   noise: 0.006\n",
      "Iter 83/100 - Loss: -1.091   lengthscale: [[1.3608524799346924]]   noise: 0.006\n",
      "Iter 84/100 - Loss: -1.090   lengthscale: [[1.3648557662963867]]   noise: 0.006\n",
      "Iter 85/100 - Loss: -1.090   lengthscale: [[1.3683494329452515]]   noise: 0.006\n",
      "Iter 86/100 - Loss: -1.090   lengthscale: [[1.371323823928833]]   noise: 0.007\n",
      "Iter 87/100 - Loss: -1.090   lengthscale: [[1.3738007545471191]]   noise: 0.007\n",
      "Iter 88/100 - Loss: -1.090   lengthscale: [[1.3758281469345093]]   noise: 0.007\n",
      "Iter 89/100 - Loss: -1.090   lengthscale: [[1.3774718046188354]]   noise: 0.007\n",
      "Iter 90/100 - Loss: -1.090   lengthscale: [[1.3788068294525146]]   noise: 0.007\n",
      "Iter 91/100 - Loss: -1.090   lengthscale: [[1.3799071311950684]]   noise: 0.007\n",
      "Iter 92/100 - Loss: -1.090   lengthscale: [[1.38083815574646]]   noise: 0.007\n",
      "Iter 93/100 - Loss: -1.090   lengthscale: [[1.3816505670547485]]   noise: 0.007\n",
      "Iter 94/100 - Loss: -1.090   lengthscale: [[1.3823761940002441]]   noise: 0.007\n",
      "Iter 95/100 - Loss: -1.090   lengthscale: [[1.3830268383026123]]   noise: 0.007\n",
      "Iter 96/100 - Loss: -1.090   lengthscale: [[1.3835959434509277]]   noise: 0.007\n",
      "Iter 97/100 - Loss: -1.090   lengthscale: [[1.3840618133544922]]   noise: 0.006\n",
      "Iter 98/100 - Loss: -1.090   lengthscale: [[1.3843928575515747]]   noise: 0.006\n",
      "Iter 99/100 - Loss: -1.091   lengthscale: [[1.3845529556274414]]   noise: 0.006\n",
      "Iter 100/100 - Loss: -1.091   lengthscale: [[1.3845080137252808]]   noise: 0.006\n"
     ]
    }
   ],
   "source": [
    "train_std = standardize(pc_train)\n",
    "\n",
    "X_train = torch.tensor(train_std.wind_speed)\n",
    "y_train = torch.tensor(train_std.power)\n",
    "\n",
    "model, likelihood = power_curve.fit(X_train, y_train)"
   ]
  },
  {
   "cell_type": "code",
   "execution_count": 8,
   "id": "d62852f7",
   "metadata": {},
   "outputs": [],
   "source": [
    "test_sort = test.sort_values(\"wind_speed\")\n",
    "test_sort_std = standardize(test_sort, ref_df=pc_train)\n",
    "X_test_torch = torch.tensor(test_sort_std.wind_speed)\n",
    "\n",
    "test_pred = power_curve.predict(model, likelihood, X_test_torch)"
   ]
  },
  {
   "cell_type": "code",
   "execution_count": 9,
   "id": "a7e57628",
   "metadata": {},
   "outputs": [
    {
     "name": "stdout",
     "output_type": "stream",
     "text": [
      "Test RMSE: 81.63548640845919 kW\n"
     ]
    }
   ],
   "source": [
    "test_pred_tf = test_pred.mean.numpy() * pc_train.power.std() + pc_train.power.mean()\n",
    "test_rmse = mean_squared_error(test_pred_tf, test_sort.power, squared=False)\n",
    "\n",
    "print(f\"Test RMSE: {test_rmse} kW\")"
   ]
  },
  {
   "cell_type": "code",
   "execution_count": 10,
   "id": "8ddf1864",
   "metadata": {},
   "outputs": [
    {
     "name": "stdout",
     "output_type": "stream",
     "text": [
      "Test RMSE: 252.55331885863177 kW\n",
      "Test MAE: 164.00692680565191 kW\n"
     ]
    }
   ],
   "source": [
    "fcast = forecasts_full[\"mean\"]\n",
    "fcast_std = (fcast - pc_train.wind_speed.mean())/pc_train.wind_speed.std()\n",
    "fcast_torch = torch.tensor(fcast_std)\n",
    "\n",
    "test_pred = power_curve.predict(model, likelihood, fcast_torch)\n",
    "\n",
    "test_pred_tf = test_pred.mean.numpy() * pc_train.power.std() + pc_train.power.mean()\n",
    "\n",
    "# filter out values outside operating range\n",
    "pred_filtered = np.zeros(len(test_pred_tf))\n",
    "\n",
    "for i, pred in enumerate(fcast):\n",
    "    if (pred < cut_in) or (pred >= cut_out):\n",
    "        pred_filtered[i] = 0.0\n",
    "    else:\n",
    "        pred_filtered[i] = test_pred_tf[i]\n",
    "\n",
    "\n",
    "test_rmse = mean_squared_error(pred_filtered, test[1:].power, squared=False)\n",
    "test_mae = mean_absolute_error(pred_filtered, test[1:].power)\n",
    "print(f\"Test RMSE: {test_rmse} kW\")\n",
    "print(f\"Test MAE: {test_mae} kW\")"
   ]
  }
 ],
 "metadata": {
  "kernelspec": {
   "display_name": "REStats",
   "language": "python",
   "name": "restats"
  },
  "language_info": {
   "codemirror_mode": {
    "name": "ipython",
    "version": 3
   },
   "file_extension": ".py",
   "mimetype": "text/x-python",
   "name": "python",
   "nbconvert_exporter": "python",
   "pygments_lexer": "ipython3",
   "version": "3.11.0"
  }
 },
 "nbformat": 4,
 "nbformat_minor": 5
}
